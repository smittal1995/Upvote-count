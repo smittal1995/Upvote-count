{
  "nbformat": 4,
  "nbformat_minor": 0,
  "metadata": {
    "colab": {
      "name": "Upvote.ipynb",
      "provenance": []
    },
    "kernelspec": {
      "display_name": "Python 3",
      "name": "python3"
    }
  },
  "cells": [
    {
      "cell_type": "code",
      "metadata": {
        "id": "LeIwUaRD2UQx"
      },
      "source": [
        "import matplotlib.pyplot as plt\n",
        "import numpy as np\n",
        "import pandas as pd\n",
        "import seaborn as sns\n",
        "\n",
        "\n",
        "# Make numpy printouts easier to read.\n",
        "np.set_printoptions(precision=3, suppress=True)"
      ],
      "execution_count": 251,
      "outputs": []
    },
    {
      "cell_type": "code",
      "metadata": {
        "colab": {
          "base_uri": "https://localhost:8080/"
        },
        "id": "zNS1hcv62XxQ",
        "outputId": "171e1c8f-c702-4038-b8bc-1631f508e16b"
      },
      "source": [
        "import tensorflow as tf\n",
        "\n",
        "from tensorflow import keras\n",
        "from tensorflow.keras import layers\n",
        "from tensorflow.keras.layers.experimental import preprocessing\n",
        "\n",
        "print(tf.__version__)"
      ],
      "execution_count": 252,
      "outputs": [
        {
          "output_type": "stream",
          "text": [
            "2.3.0\n"
          ],
          "name": "stdout"
        }
      ]
    },
    {
      "cell_type": "code",
      "metadata": {
        "colab": {
          "base_uri": "https://localhost:8080/"
        },
        "id": "MGS-69vg2aMu",
        "outputId": "e7e67344-1f30-4a4f-b276-37e4453caeca"
      },
      "source": [
        "data = pd.read_csv('train_NIR5Yl1.csv').sample(frac=1)\n",
        "print(data.describe())\n",
        "\n",
        "features = data[['Reputation', 'Answers', 'Views', 'Tag']]\n",
        "onehot_Tag = pd.get_dummies(features['Tag'])\n",
        "features = features.drop(columns=['Tag'])\n",
        "features = pd.concat([features, onehot_Tag], axis=1)\n",
        "targets = data['Upvotes']\n",
        "\n",
        "data_preprocessed = pd.concat([features, targets], axis=1)\n"
      ],
      "execution_count": 254,
      "outputs": [
        {
          "output_type": "stream",
          "text": [
            "                  ID    Reputation  ...         Views        Upvotes\n",
            "count  330045.000000  3.300450e+05  ...  3.300450e+05  330045.000000\n",
            "mean   235748.682789  7.773147e+03  ...  2.964507e+04     337.505358\n",
            "std    136039.418471  2.706141e+04  ...  8.095646e+04    3592.441135\n",
            "min         1.000000  0.000000e+00  ...  9.000000e+00       0.000000\n",
            "25%    117909.000000  2.820000e+02  ...  2.594000e+03       8.000000\n",
            "50%    235699.000000  1.236000e+03  ...  8.954000e+03      28.000000\n",
            "75%    353620.000000  5.118000e+03  ...  2.687000e+04     107.000000\n",
            "max    471493.000000  1.042428e+06  ...  5.231058e+06  615278.000000\n",
            "\n",
            "[8 rows x 6 columns]\n"
          ],
          "name": "stdout"
        }
      ]
    },
    {
      "cell_type": "code",
      "metadata": {
        "colab": {
          "base_uri": "https://localhost:8080/"
        },
        "id": "fRFKyFRt2qNw",
        "outputId": "14d5347c-ba9c-4cf7-bfff-319c94c57393"
      },
      "source": [
        "train_dataset = data_preprocessed\n",
        "\n",
        "#train_dataset = data_preprocessed.sample(frac=0.8, random_state=0)\n",
        "#test_dataset = data_preprocessed.drop(train_dataset.index)\n",
        "\n",
        "train_features = train_dataset.copy()\n",
        "#test_features = test_dataset.copy()\n",
        "\n",
        "train_labels = train_features.pop('Upvotes')\n",
        "#test_labels = test_features.pop('Upvotes')\n",
        "print(train_features)\n",
        "print(train_labels)\n",
        "#train_dataset.describe().transpose()[['mean', 'std']]"
      ],
      "execution_count": 255,
      "outputs": [
        {
          "output_type": "stream",
          "text": [
            "        Reputation  Answers     Views  a  c  h  i  j  o  p  r  s  x\n",
            "325640       157.0      2.0    4763.0  1  0  0  0  0  0  0  0  0  0\n",
            "39997      31280.0      4.0    7967.0  0  1  0  0  0  0  0  0  0  0\n",
            "23123       1798.0      2.0  379348.0  0  0  1  0  0  0  0  0  0  0\n",
            "260028       446.0      4.0    7959.0  1  0  0  0  0  0  0  0  0  0\n",
            "218514     89433.0      2.0    1844.0  0  0  0  0  0  0  1  0  0  0\n",
            "...            ...      ...       ... .. .. .. .. .. .. .. .. .. ..\n",
            "294907      2062.0      5.0   12219.0  0  0  0  0  0  0  1  0  0  0\n",
            "260316      1007.0      3.0   12844.0  0  1  0  0  0  0  0  0  0  0\n",
            "299142      1881.0      9.0   18274.0  0  0  0  1  0  0  0  0  0  0\n",
            "235483       618.0      1.0   28789.0  0  0  0  0  1  0  0  0  0  0\n",
            "208090     16394.0      4.0   40839.0  1  0  0  0  0  0  0  0  0  0\n",
            "\n",
            "[330045 rows x 13 columns]\n",
            "325640     15.0\n",
            "39997     340.0\n",
            "23123     339.0\n",
            "260028     19.0\n",
            "218514    279.0\n",
            "          ...  \n",
            "294907     49.0\n",
            "260316     13.0\n",
            "299142     73.0\n",
            "235483     32.0\n",
            "208090    595.0\n",
            "Name: Upvotes, Length: 330045, dtype: float64\n"
          ],
          "name": "stdout"
        }
      ]
    },
    {
      "cell_type": "code",
      "metadata": {
        "id": "eG2cDsAO5EOs"
      },
      "source": [
        "normalizer = preprocessing.Normalization()\n",
        "normalizer.adapt(np.array(train_features))\n",
        "#print(normalizer.mean.numpy())"
      ],
      "execution_count": 256,
      "outputs": []
    },
    {
      "cell_type": "code",
      "metadata": {
        "id": "_DMFwFTW-0eT"
      },
      "source": [
        "def root_mean_squared_error(y_true, y_pred):\n",
        "        return K.sqrt(K.mean(K.square(y_pred - y_true))) \n",
        "\n",
        "def build_and_compile_model(norm):\n",
        "  model = keras.Sequential([\n",
        "      norm,\n",
        "      layers.Dense(128, activation='relu'),\n",
        "      layers.Dropout(0.1),\n",
        "      layers.Dense(128, activation='relu'),\n",
        "      layers.Dropout(0.1),\n",
        "      layers.Dense(128, activation='relu'),\n",
        "      layers.Dropout(0.1),   \n",
        "      layers.Dense(128, activation='relu'),\n",
        "      layers.Dropout(0.1),   \n",
        "      layers.Dense(1),\n",
        "  ])\n",
        "  rmse = tf.keras.metrics.RootMeanSquaredError()\n",
        "  model.compile(loss=tf.keras.losses.MSE,\n",
        "                optimizer=tf.keras.optimizers.Adam(0.0004),\n",
        "                metrics=[\n",
        "                  #  tf.keras.metrics.MAE,\n",
        "                  #  tf.keras.metrics.MSE,\n",
        "                    #R_squared, # -1 and 1, < 0 => useless, 0 and 1 => better close to 1\n",
        "                   rmse,\n",
        "                ]\n",
        "                )\n",
        "  return model\n",
        "\n",
        "callback = tf.keras.callbacks.EarlyStopping(monitor='loss', patience=20, mode='auto',restore_best_weights=True)\n"
      ],
      "execution_count": 257,
      "outputs": []
    },
    {
      "cell_type": "code",
      "metadata": {
        "colab": {
          "base_uri": "https://localhost:8080/"
        },
        "id": "E0bLtYxB_AK7",
        "outputId": "005a7374-c467-4f88-e19b-71a13a771712"
      },
      "source": [
        "dnn_model = build_and_compile_model(normalizer)\n",
        "dnn_model.summary()"
      ],
      "execution_count": 258,
      "outputs": [
        {
          "output_type": "stream",
          "text": [
            "Model: \"sequential_20\"\n",
            "_________________________________________________________________\n",
            "Layer (type)                 Output Shape              Param #   \n",
            "=================================================================\n",
            "normalization_14 (Normalizat (None, 13)                27        \n",
            "_________________________________________________________________\n",
            "dense_73 (Dense)             (None, 128)               1792      \n",
            "_________________________________________________________________\n",
            "dropout_47 (Dropout)         (None, 128)               0         \n",
            "_________________________________________________________________\n",
            "dense_74 (Dense)             (None, 128)               16512     \n",
            "_________________________________________________________________\n",
            "dropout_48 (Dropout)         (None, 128)               0         \n",
            "_________________________________________________________________\n",
            "dense_75 (Dense)             (None, 128)               16512     \n",
            "_________________________________________________________________\n",
            "dropout_49 (Dropout)         (None, 128)               0         \n",
            "_________________________________________________________________\n",
            "dense_76 (Dense)             (None, 128)               16512     \n",
            "_________________________________________________________________\n",
            "dropout_50 (Dropout)         (None, 128)               0         \n",
            "_________________________________________________________________\n",
            "dense_77 (Dense)             (None, 1)                 129       \n",
            "=================================================================\n",
            "Total params: 51,484\n",
            "Trainable params: 51,457\n",
            "Non-trainable params: 27\n",
            "_________________________________________________________________\n"
          ],
          "name": "stdout"
        }
      ]
    },
    {
      "cell_type": "code",
      "metadata": {
        "colab": {
          "base_uri": "https://localhost:8080/"
        },
        "id": "ApoZC0hf_Atj",
        "outputId": "a389b8c1-185d-4fb0-fab0-c455421bb3c7"
      },
      "source": [
        "%%time\n",
        "history = dnn_model.fit(\n",
        "    train_features, train_labels,\n",
        "    validation_split=0.2,\n",
        "    verbose=2, epochs=100, callbacks=[callback])"
      ],
      "execution_count": 259,
      "outputs": [
        {
          "output_type": "stream",
          "text": [
            "Epoch 1/100\n",
            "8252/8252 - 16s - loss: 9725771.0000 - root_mean_squared_error: 3118.6169 - val_loss: 3613929.2500 - val_root_mean_squared_error: 1901.0337\n",
            "Epoch 2/100\n",
            "8252/8252 - 16s - loss: 5552341.0000 - root_mean_squared_error: 2356.3406 - val_loss: 2903143.5000 - val_root_mean_squared_error: 1703.8613\n",
            "Epoch 3/100\n",
            "8252/8252 - 16s - loss: 4335469.0000 - root_mean_squared_error: 2082.1790 - val_loss: 1733284.3750 - val_root_mean_squared_error: 1316.5426\n",
            "Epoch 4/100\n",
            "8252/8252 - 16s - loss: 3909615.7500 - root_mean_squared_error: 1977.2748 - val_loss: 1798240.8750 - val_root_mean_squared_error: 1340.9850\n",
            "Epoch 5/100\n",
            "8252/8252 - 16s - loss: 3334712.2500 - root_mean_squared_error: 1826.1195 - val_loss: 1569629.2500 - val_root_mean_squared_error: 1252.8485\n",
            "Epoch 6/100\n",
            "8252/8252 - 16s - loss: 2930370.7500 - root_mean_squared_error: 1711.8325 - val_loss: 1739016.3750 - val_root_mean_squared_error: 1318.7177\n",
            "Epoch 7/100\n",
            "8252/8252 - 16s - loss: 2738199.7500 - root_mean_squared_error: 1654.7506 - val_loss: 1463968.2500 - val_root_mean_squared_error: 1209.9456\n",
            "Epoch 8/100\n",
            "8252/8252 - 16s - loss: 2679144.0000 - root_mean_squared_error: 1636.8091 - val_loss: 1822483.3750 - val_root_mean_squared_error: 1349.9939\n",
            "Epoch 9/100\n",
            "8252/8252 - 16s - loss: 2600940.5000 - root_mean_squared_error: 1612.7432 - val_loss: 1374391.3750 - val_root_mean_squared_error: 1172.3444\n",
            "Epoch 10/100\n",
            "8252/8252 - 16s - loss: 2571715.7500 - root_mean_squared_error: 1603.6570 - val_loss: 1285534.3750 - val_root_mean_squared_error: 1133.8141\n",
            "Epoch 11/100\n",
            "8252/8252 - 16s - loss: 2439440.0000 - root_mean_squared_error: 1561.8707 - val_loss: 1135536.6250 - val_root_mean_squared_error: 1065.6156\n",
            "Epoch 12/100\n",
            "8252/8252 - 17s - loss: 2432342.5000 - root_mean_squared_error: 1559.5969 - val_loss: 1051155.6250 - val_root_mean_squared_error: 1025.2588\n",
            "Epoch 13/100\n",
            "8252/8252 - 16s - loss: 2361148.5000 - root_mean_squared_error: 1536.6029 - val_loss: 1020019.8125 - val_root_mean_squared_error: 1009.9603\n",
            "Epoch 14/100\n",
            "8252/8252 - 16s - loss: 2203265.7500 - root_mean_squared_error: 1484.3402 - val_loss: 979452.4375 - val_root_mean_squared_error: 989.6729\n",
            "Epoch 15/100\n",
            "8252/8252 - 16s - loss: 1860714.0000 - root_mean_squared_error: 1364.0800 - val_loss: 909274.0000 - val_root_mean_squared_error: 953.5586\n",
            "Epoch 16/100\n",
            "8252/8252 - 17s - loss: 2151254.7500 - root_mean_squared_error: 1466.7156 - val_loss: 897105.6875 - val_root_mean_squared_error: 947.1566\n",
            "Epoch 17/100\n",
            "8252/8252 - 18s - loss: 2229169.5000 - root_mean_squared_error: 1493.0404 - val_loss: 1549369.7500 - val_root_mean_squared_error: 1244.7368\n",
            "Epoch 18/100\n",
            "8252/8252 - 16s - loss: 1859865.0000 - root_mean_squared_error: 1363.7687 - val_loss: 1201956.1250 - val_root_mean_squared_error: 1096.3376\n",
            "Epoch 19/100\n",
            "8252/8252 - 16s - loss: 2260396.0000 - root_mean_squared_error: 1503.4613 - val_loss: 865209.0625 - val_root_mean_squared_error: 930.1661\n",
            "Epoch 20/100\n",
            "8252/8252 - 16s - loss: 1838756.6250 - root_mean_squared_error: 1356.0076 - val_loss: 1048842.7500 - val_root_mean_squared_error: 1024.1302\n",
            "Epoch 21/100\n",
            "8252/8252 - 16s - loss: 1713789.1250 - root_mean_squared_error: 1309.1177 - val_loss: 802986.6875 - val_root_mean_squared_error: 896.0952\n",
            "Epoch 22/100\n",
            "8252/8252 - 16s - loss: 2140837.2500 - root_mean_squared_error: 1463.1600 - val_loss: 918456.5625 - val_root_mean_squared_error: 958.3614\n",
            "Epoch 23/100\n",
            "8252/8252 - 16s - loss: 1953504.7500 - root_mean_squared_error: 1397.6783 - val_loss: 884359.1250 - val_root_mean_squared_error: 940.4037\n",
            "Epoch 24/100\n",
            "8252/8252 - 16s - loss: 1862411.8750 - root_mean_squared_error: 1364.7021 - val_loss: 967643.7500 - val_root_mean_squared_error: 983.6888\n",
            "Epoch 25/100\n",
            "8252/8252 - 16s - loss: 1778000.6250 - root_mean_squared_error: 1333.4169 - val_loss: 1071642.8750 - val_root_mean_squared_error: 1035.2019\n",
            "Epoch 26/100\n",
            "8252/8252 - 16s - loss: 1659297.8750 - root_mean_squared_error: 1288.1373 - val_loss: 1130582.7500 - val_root_mean_squared_error: 1063.2887\n",
            "Epoch 27/100\n",
            "8252/8252 - 16s - loss: 1977010.0000 - root_mean_squared_error: 1406.0619 - val_loss: 952838.3750 - val_root_mean_squared_error: 976.1344\n",
            "Epoch 28/100\n",
            "8252/8252 - 16s - loss: 2374091.2500 - root_mean_squared_error: 1540.8086 - val_loss: 864336.7500 - val_root_mean_squared_error: 929.6971\n",
            "Epoch 29/100\n",
            "8252/8252 - 16s - loss: 1774404.2500 - root_mean_squared_error: 1332.0676 - val_loss: 901289.5000 - val_root_mean_squared_error: 949.3627\n",
            "Epoch 30/100\n",
            "8252/8252 - 16s - loss: 2307439.5000 - root_mean_squared_error: 1519.0259 - val_loss: 854022.6250 - val_root_mean_squared_error: 924.1334\n",
            "Epoch 31/100\n",
            "8252/8252 - 17s - loss: 1836902.0000 - root_mean_squared_error: 1355.3236 - val_loss: 870619.8125 - val_root_mean_squared_error: 933.0701\n",
            "Epoch 32/100\n",
            "8252/8252 - 16s - loss: 1968069.8750 - root_mean_squared_error: 1402.8792 - val_loss: 778717.7500 - val_root_mean_squared_error: 882.4498\n",
            "Epoch 33/100\n",
            "8252/8252 - 16s - loss: 1839320.7500 - root_mean_squared_error: 1356.2156 - val_loss: 759842.6250 - val_root_mean_squared_error: 871.6895\n",
            "Epoch 34/100\n",
            "8252/8252 - 16s - loss: 1708575.5000 - root_mean_squared_error: 1307.1249 - val_loss: 754163.8125 - val_root_mean_squared_error: 868.4260\n",
            "Epoch 35/100\n",
            "8252/8252 - 16s - loss: 1786315.0000 - root_mean_squared_error: 1336.5310 - val_loss: 841777.5000 - val_root_mean_squared_error: 917.4843\n",
            "Epoch 36/100\n",
            "8252/8252 - 17s - loss: 1925676.6250 - root_mean_squared_error: 1387.6875 - val_loss: 954786.2500 - val_root_mean_squared_error: 977.1317\n",
            "Epoch 37/100\n",
            "8252/8252 - 16s - loss: 1993340.5000 - root_mean_squared_error: 1411.8571 - val_loss: 767548.0625 - val_root_mean_squared_error: 876.0982\n",
            "Epoch 38/100\n",
            "8252/8252 - 16s - loss: 2005526.1250 - root_mean_squared_error: 1416.1660 - val_loss: 754428.8750 - val_root_mean_squared_error: 868.5787\n",
            "Epoch 39/100\n",
            "8252/8252 - 16s - loss: 1603676.7500 - root_mean_squared_error: 1266.3636 - val_loss: 922653.9375 - val_root_mean_squared_error: 960.5488\n",
            "Epoch 40/100\n",
            "8252/8252 - 16s - loss: 1847428.3750 - root_mean_squared_error: 1359.2014 - val_loss: 784283.5000 - val_root_mean_squared_error: 885.5978\n",
            "Epoch 41/100\n",
            "8252/8252 - 16s - loss: 1554471.2500 - root_mean_squared_error: 1246.7844 - val_loss: 851113.0000 - val_root_mean_squared_error: 922.5579\n",
            "Epoch 42/100\n",
            "8252/8252 - 16s - loss: 1747514.2500 - root_mean_squared_error: 1321.9358 - val_loss: 924602.0625 - val_root_mean_squared_error: 961.5623\n",
            "Epoch 43/100\n",
            "8252/8252 - 16s - loss: 1911990.0000 - root_mean_squared_error: 1382.7473 - val_loss: 761765.3125 - val_root_mean_squared_error: 872.7917\n",
            "Epoch 44/100\n",
            "8252/8252 - 16s - loss: 1786391.5000 - root_mean_squared_error: 1336.5596 - val_loss: 974305.7500 - val_root_mean_squared_error: 987.0693\n",
            "Epoch 45/100\n",
            "8252/8252 - 16s - loss: 1826389.2500 - root_mean_squared_error: 1351.4397 - val_loss: 751041.2500 - val_root_mean_squared_error: 866.6263\n",
            "Epoch 46/100\n",
            "8252/8252 - 16s - loss: 1785437.2500 - root_mean_squared_error: 1336.2025 - val_loss: 836067.5000 - val_root_mean_squared_error: 914.3672\n",
            "Epoch 47/100\n",
            "8252/8252 - 16s - loss: 1735644.3750 - root_mean_squared_error: 1317.4386 - val_loss: 862545.2500 - val_root_mean_squared_error: 928.7332\n",
            "Epoch 48/100\n",
            "8252/8252 - 16s - loss: 1616018.2500 - root_mean_squared_error: 1271.2271 - val_loss: 748812.6250 - val_root_mean_squared_error: 865.3396\n",
            "Epoch 49/100\n",
            "8252/8252 - 16s - loss: 1902463.7500 - root_mean_squared_error: 1379.2983 - val_loss: 774625.0000 - val_root_mean_squared_error: 880.1278\n",
            "Epoch 50/100\n",
            "8252/8252 - 17s - loss: 1680758.6250 - root_mean_squared_error: 1296.4408 - val_loss: 738898.5625 - val_root_mean_squared_error: 859.5921\n",
            "Epoch 51/100\n",
            "8252/8252 - 16s - loss: 1659198.8750 - root_mean_squared_error: 1288.0990 - val_loss: 1162152.1250 - val_root_mean_squared_error: 1078.0316\n",
            "Epoch 52/100\n",
            "8252/8252 - 16s - loss: 1767654.3750 - root_mean_squared_error: 1329.5316 - val_loss: 719896.3125 - val_root_mean_squared_error: 848.4670\n",
            "Epoch 53/100\n",
            "8252/8252 - 17s - loss: 1600733.0000 - root_mean_squared_error: 1265.2008 - val_loss: 741591.2500 - val_root_mean_squared_error: 861.1569\n",
            "Epoch 54/100\n",
            "8252/8252 - 17s - loss: 1515332.6250 - root_mean_squared_error: 1230.9885 - val_loss: 770387.3125 - val_root_mean_squared_error: 877.7171\n",
            "Epoch 55/100\n",
            "8252/8252 - 17s - loss: 1621241.6250 - root_mean_squared_error: 1273.2799 - val_loss: 737157.8750 - val_root_mean_squared_error: 858.5790\n",
            "Epoch 56/100\n",
            "8252/8252 - 16s - loss: 1624406.3750 - root_mean_squared_error: 1274.5220 - val_loss: 1097809.8750 - val_root_mean_squared_error: 1047.7643\n",
            "Epoch 57/100\n",
            "8252/8252 - 16s - loss: 1680854.6250 - root_mean_squared_error: 1296.4778 - val_loss: 750967.3125 - val_root_mean_squared_error: 866.5837\n",
            "Epoch 58/100\n",
            "8252/8252 - 16s - loss: 1714580.6250 - root_mean_squared_error: 1309.4199 - val_loss: 799016.0000 - val_root_mean_squared_error: 893.8770\n",
            "Epoch 59/100\n",
            "8252/8252 - 16s - loss: 1695736.3750 - root_mean_squared_error: 1302.2045 - val_loss: 956485.5000 - val_root_mean_squared_error: 978.0008\n",
            "Epoch 60/100\n",
            "8252/8252 - 16s - loss: 1581132.7500 - root_mean_squared_error: 1257.4310 - val_loss: 822243.9375 - val_root_mean_squared_error: 906.7767\n",
            "Epoch 61/100\n",
            "8252/8252 - 16s - loss: 1470255.3750 - root_mean_squared_error: 1212.5409 - val_loss: 733418.4375 - val_root_mean_squared_error: 856.3985\n",
            "Epoch 62/100\n",
            "8252/8252 - 16s - loss: 1448248.0000 - root_mean_squared_error: 1203.4318 - val_loss: 716077.6875 - val_root_mean_squared_error: 846.2137\n",
            "Epoch 63/100\n",
            "8252/8252 - 16s - loss: 1709659.2500 - root_mean_squared_error: 1307.5394 - val_loss: 772578.6875 - val_root_mean_squared_error: 878.9645\n",
            "Epoch 64/100\n",
            "8252/8252 - 16s - loss: 1789930.8750 - root_mean_squared_error: 1337.8829 - val_loss: 795525.9375 - val_root_mean_squared_error: 891.9226\n",
            "Epoch 65/100\n",
            "8252/8252 - 16s - loss: 1641390.1250 - root_mean_squared_error: 1281.1675 - val_loss: 845618.4375 - val_root_mean_squared_error: 919.5751\n",
            "Epoch 66/100\n",
            "8252/8252 - 16s - loss: 1693564.7500 - root_mean_squared_error: 1301.3704 - val_loss: 796405.6250 - val_root_mean_squared_error: 892.4156\n",
            "Epoch 67/100\n",
            "8252/8252 - 16s - loss: 1650828.8750 - root_mean_squared_error: 1284.8458 - val_loss: 785690.8125 - val_root_mean_squared_error: 886.3920\n",
            "Epoch 68/100\n",
            "8252/8252 - 16s - loss: 1458643.8750 - root_mean_squared_error: 1207.7433 - val_loss: 742440.0625 - val_root_mean_squared_error: 861.6496\n",
            "Epoch 69/100\n",
            "8252/8252 - 18s - loss: 1234948.3750 - root_mean_squared_error: 1111.2823 - val_loss: 802066.5625 - val_root_mean_squared_error: 895.5817\n",
            "Epoch 70/100\n",
            "8252/8252 - 16s - loss: 1327642.5000 - root_mean_squared_error: 1152.2336 - val_loss: 751100.5000 - val_root_mean_squared_error: 866.6605\n",
            "Epoch 71/100\n",
            "8252/8252 - 16s - loss: 1768847.6250 - root_mean_squared_error: 1329.9803 - val_loss: 1173323.5000 - val_root_mean_squared_error: 1083.2006\n",
            "Epoch 72/100\n",
            "8252/8252 - 16s - loss: 1494702.3750 - root_mean_squared_error: 1222.5802 - val_loss: 671531.0000 - val_root_mean_squared_error: 819.4700\n",
            "Epoch 73/100\n",
            "8252/8252 - 16s - loss: 1502749.7500 - root_mean_squared_error: 1225.8669 - val_loss: 744088.0625 - val_root_mean_squared_error: 862.6054\n",
            "Epoch 74/100\n",
            "8252/8252 - 17s - loss: 1489917.1250 - root_mean_squared_error: 1220.6216 - val_loss: 673722.4375 - val_root_mean_squared_error: 820.8060\n",
            "Epoch 75/100\n",
            "8252/8252 - 16s - loss: 1293014.7500 - root_mean_squared_error: 1137.1080 - val_loss: 691448.9375 - val_root_mean_squared_error: 831.5341\n",
            "Epoch 76/100\n",
            "8252/8252 - 16s - loss: 1545172.6250 - root_mean_squared_error: 1243.0497 - val_loss: 1397618.7500 - val_root_mean_squared_error: 1182.2092\n",
            "Epoch 77/100\n",
            "8252/8252 - 16s - loss: 1557945.1250 - root_mean_squared_error: 1248.1768 - val_loss: 959176.6875 - val_root_mean_squared_error: 979.3757\n",
            "Epoch 78/100\n",
            "8252/8252 - 16s - loss: 1727079.0000 - root_mean_squared_error: 1314.1838 - val_loss: 926721.9375 - val_root_mean_squared_error: 962.6640\n",
            "Epoch 79/100\n",
            "8252/8252 - 16s - loss: 1547619.6250 - root_mean_squared_error: 1244.0336 - val_loss: 914490.7500 - val_root_mean_squared_error: 956.2901\n",
            "Epoch 80/100\n",
            "8252/8252 - 16s - loss: 1373659.3750 - root_mean_squared_error: 1172.0321 - val_loss: 718732.3750 - val_root_mean_squared_error: 847.7808\n",
            "Epoch 81/100\n",
            "8252/8252 - 17s - loss: 1422767.6250 - root_mean_squared_error: 1192.7982 - val_loss: 706332.6250 - val_root_mean_squared_error: 840.4360\n",
            "Epoch 82/100\n",
            "8252/8252 - 17s - loss: 1463847.7500 - root_mean_squared_error: 1209.8958 - val_loss: 812048.2500 - val_root_mean_squared_error: 901.1372\n",
            "Epoch 83/100\n",
            "8252/8252 - 16s - loss: 1431952.0000 - root_mean_squared_error: 1196.6420 - val_loss: 782613.4375 - val_root_mean_squared_error: 884.6544\n",
            "Epoch 84/100\n",
            "8252/8252 - 16s - loss: 1667933.6250 - root_mean_squared_error: 1291.4850 - val_loss: 791831.0625 - val_root_mean_squared_error: 889.8489\n",
            "Epoch 85/100\n",
            "8252/8252 - 16s - loss: 1499858.8750 - root_mean_squared_error: 1224.6873 - val_loss: 869013.9375 - val_root_mean_squared_error: 932.2092\n",
            "Epoch 86/100\n",
            "8252/8252 - 16s - loss: 1623038.3750 - root_mean_squared_error: 1273.9852 - val_loss: 726414.1875 - val_root_mean_squared_error: 852.2994\n",
            "Epoch 87/100\n",
            "8252/8252 - 17s - loss: 1974440.0000 - root_mean_squared_error: 1405.1477 - val_loss: 749754.5625 - val_root_mean_squared_error: 865.8837\n",
            "Epoch 88/100\n",
            "8252/8252 - 17s - loss: 1424517.6250 - root_mean_squared_error: 1193.5316 - val_loss: 774957.4375 - val_root_mean_squared_error: 880.3167\n",
            "Epoch 89/100\n",
            "8252/8252 - 16s - loss: 1282059.1250 - root_mean_squared_error: 1132.2805 - val_loss: 815044.7500 - val_root_mean_squared_error: 902.7983\n",
            "CPU times: user 33min 30s, sys: 2min 40s, total: 36min 10s\n",
            "Wall time: 24min 16s\n"
          ],
          "name": "stdout"
        }
      ]
    },
    {
      "cell_type": "code",
      "metadata": {
        "id": "rvTkhkCA_HOY"
      },
      "source": [
        "def plot_loss(history):\n",
        "  plt.plot(history.history['loss'], label='loss')\n",
        "  plt.plot(history.history['val_loss'], label='val_loss')\n",
        " # plt.ylim([10, 80])\n",
        "  plt.xlabel('Epoch')\n",
        "  plt.ylabel('Error [MPG]')\n",
        "  plt.legend()\n",
        "  plt.grid(True)"
      ],
      "execution_count": 260,
      "outputs": []
    },
    {
      "cell_type": "code",
      "metadata": {
        "colab": {
          "base_uri": "https://localhost:8080/",
          "height": 290
        },
        "id": "kfaAiCMiAIlb",
        "outputId": "3bbe9250-842d-4238-cb07-c11b6117af38"
      },
      "source": [
        "plot_loss(history)"
      ],
      "execution_count": 261,
      "outputs": [
        {
          "output_type": "display_data",
          "data": {
            "image/png": "[encoded data removed]",
            "text/plain": [
              "<Figure size 432x288 with 1 Axes>"
            ]
          },
          "metadata": {
            "tags": [],
            "needs_background": "light"
          }
        }
      ]
    },
    {
      "cell_type": "code",
      "metadata": {
        "colab": {
          "base_uri": "https://localhost:8080/",
          "height": 294
        },
        "id": "k4tUo3DDVMZK",
        "outputId": "7bb06185-282a-494d-a0d0-79c304214262"
      },
      "source": [
        "data1 = pd.read_csv('test_8i3B3FC.csv').sample(frac=1)\n",
        "data1.describe()"
      ],
      "execution_count": 262,
      "outputs": [
        {
          "output_type": "execute_result",
          "data": {
            "text/html": [
              "<div>\n",
              "<style scoped>\n",
              "    .dataframe tbody tr th:only-of-type {\n",
              "        vertical-align: middle;\n",
              "    }\n",
              "\n",
              "    .dataframe tbody tr th {\n",
              "        vertical-align: top;\n",
              "    }\n",
              "\n",
              "    .dataframe thead th {\n",
              "        text-align: right;\n",
              "    }\n",
              "</style>\n",
              "<table border=\"1\" class=\"dataframe\">\n",
              "  <thead>\n",
              "    <tr style=\"text-align: right;\">\n",
              "      <th></th>\n",
              "      <th>ID</th>\n",
              "      <th>Reputation</th>\n",
              "      <th>Answers</th>\n",
              "      <th>Username</th>\n",
              "      <th>Views</th>\n",
              "    </tr>\n",
              "  </thead>\n",
              "  <tbody>\n",
              "    <tr>\n",
              "      <th>count</th>\n",
              "      <td>141448.000000</td>\n",
              "      <td>1.414480e+05</td>\n",
              "      <td>141448.000000</td>\n",
              "      <td>141448.000000</td>\n",
              "      <td>1.414480e+05</td>\n",
              "    </tr>\n",
              "    <tr>\n",
              "      <th>mean</th>\n",
              "      <td>235743.073497</td>\n",
              "      <td>7.920927e+03</td>\n",
              "      <td>3.914873</td>\n",
              "      <td>81348.231117</td>\n",
              "      <td>2.984633e+04</td>\n",
              "    </tr>\n",
              "    <tr>\n",
              "      <th>std</th>\n",
              "      <td>136269.867118</td>\n",
              "      <td>2.791072e+04</td>\n",
              "      <td>3.577460</td>\n",
              "      <td>49046.098215</td>\n",
              "      <td>8.034374e+04</td>\n",
              "    </tr>\n",
              "    <tr>\n",
              "      <th>min</th>\n",
              "      <td>7.000000</td>\n",
              "      <td>0.000000e+00</td>\n",
              "      <td>0.000000</td>\n",
              "      <td>4.000000</td>\n",
              "      <td>9.000000e+00</td>\n",
              "    </tr>\n",
              "    <tr>\n",
              "      <th>25%</th>\n",
              "      <td>117797.000000</td>\n",
              "      <td>2.860000e+02</td>\n",
              "      <td>2.000000</td>\n",
              "      <td>40222.750000</td>\n",
              "      <td>2.608000e+03</td>\n",
              "    </tr>\n",
              "    <tr>\n",
              "      <th>50%</th>\n",
              "      <td>235830.000000</td>\n",
              "      <td>1.245000e+03</td>\n",
              "      <td>3.000000</td>\n",
              "      <td>78795.500000</td>\n",
              "      <td>8.977000e+03</td>\n",
              "    </tr>\n",
              "    <tr>\n",
              "      <th>75%</th>\n",
              "      <td>353616.000000</td>\n",
              "      <td>5.123000e+03</td>\n",
              "      <td>5.000000</td>\n",
              "      <td>122149.000000</td>\n",
              "      <td>2.698925e+04</td>\n",
              "    </tr>\n",
              "    <tr>\n",
              "      <th>max</th>\n",
              "      <td>471488.000000</td>\n",
              "      <td>1.042428e+06</td>\n",
              "      <td>73.000000</td>\n",
              "      <td>175737.000000</td>\n",
              "      <td>5.004669e+06</td>\n",
              "    </tr>\n",
              "  </tbody>\n",
              "</table>\n",
              "</div>"
            ],
            "text/plain": [
              "                  ID    Reputation        Answers       Username         Views\n",
              "count  141448.000000  1.414480e+05  141448.000000  141448.000000  1.414480e+05\n",
              "mean   235743.073497  7.920927e+03       3.914873   81348.231117  2.984633e+04\n",
              "std    136269.867118  2.791072e+04       3.577460   49046.098215  8.034374e+04\n",
              "min         7.000000  0.000000e+00       0.000000       4.000000  9.000000e+00\n",
              "25%    117797.000000  2.860000e+02       2.000000   40222.750000  2.608000e+03\n",
              "50%    235830.000000  1.245000e+03       3.000000   78795.500000  8.977000e+03\n",
              "75%    353616.000000  5.123000e+03       5.000000  122149.000000  2.698925e+04\n",
              "max    471488.000000  1.042428e+06      73.000000  175737.000000  5.004669e+06"
            ]
          },
          "metadata": {
            "tags": []
          },
          "execution_count": 262
        }
      ]
    },
    {
      "cell_type": "code",
      "metadata": {
        "id": "64n2tcm2VXe8"
      },
      "source": [
        "features = data1[['Reputation', 'Answers', 'Views', 'Tag']]\n",
        "onehot_Tag = pd.get_dummies(features['Tag'])\n",
        "features = features.drop(columns=['Tag'])\n",
        "features = pd.concat([features, onehot_Tag], axis=1)\n",
        "\n",
        "\n",
        "data_preprocessed = features"
      ],
      "execution_count": 263,
      "outputs": []
    },
    {
      "cell_type": "code",
      "metadata": {
        "id": "IZlFzgC0Vblb"
      },
      "source": [
        "test_dataset = data_preprocessed\n",
        "\n",
        "#train_dataset = data_preprocessed.sample(frac=0.8, random_state=0)\n",
        "#test_dataset = data_preprocessed.drop(train_dataset.index)\n",
        "\n",
        "test_features = test_dataset.copy()\n",
        "#test_features = test_dataset.copy()\n",
        "\n",
        "\n",
        "#test_labels = test_features.pop('Upvotes')\n"
      ],
      "execution_count": 264,
      "outputs": []
    },
    {
      "cell_type": "code",
      "metadata": {
        "colab": {
          "base_uri": "https://localhost:8080/"
        },
        "id": "fWNWH3w8XFBN",
        "outputId": "482c36d8-9e91-49e9-b98b-d6ac1cb453b7"
      },
      "source": [
        "dnn_model.save('dnn_model')"
      ],
      "execution_count": 265,
      "outputs": [
        {
          "output_type": "stream",
          "text": [
            "INFO:tensorflow:Assets written to: dnn_model/assets\n"
          ],
          "name": "stdout"
        }
      ]
    },
    {
      "cell_type": "code",
      "metadata": {
        "id": "a6gcTPPRXY9g"
      },
      "source": [
        "reloaded = tf.keras.models.load_model('dnn_model')\n",
        "temp = reloaded.predict(test_features)\n"
      ],
      "execution_count": 266,
      "outputs": []
    },
    {
      "cell_type": "code",
      "metadata": {
        "colab": {
          "base_uri": "https://localhost:8080/"
        },
        "id": "6zXY8aJyXqjN",
        "outputId": "06dca3cf-f436-48fe-c10a-e8cfb18f360e"
      },
      "source": [
        "test_features = data1[['ID']]\n",
        "temp[temp<0]=0\n",
        "test_features['Upvotes'] = temp\n",
        "\n",
        "print(test_features)\n",
        "sort = test_features.sort_values(by=['ID'])\n",
        "print(sort)"
      ],
      "execution_count": 268,
      "outputs": [
        {
          "output_type": "stream",
          "text": [
            "            ID      Upvotes\n",
            "23906   385342    54.065750\n",
            "139359  239724   204.771133\n",
            "13799   172340    17.621380\n",
            "76501   123582    18.537136\n",
            "65989   328442   148.288269\n",
            "...        ...          ...\n",
            "8698    191088    35.407944\n",
            "108826   60194    41.320168\n",
            "135801  386997  2818.090820\n",
            "24127   411715    22.215443\n",
            "38379   197225   269.320099\n",
            "\n",
            "[141448 rows x 2 columns]\n",
            "            ID       Upvotes\n",
            "118045       7    718.456055\n",
            "74256        9     44.066330\n",
            "132030      12     90.823128\n",
            "47484       13    339.671082\n",
            "20847       16     93.047401\n",
            "...        ...           ...\n",
            "32318   471473     14.681558\n",
            "117596  471481    174.812195\n",
            "94788   471486  10898.365234\n",
            "84958   471487     62.274853\n",
            "56426   471488     38.170242\n",
            "\n",
            "[141448 rows x 2 columns]\n"
          ],
          "name": "stdout"
        },
        {
          "output_type": "stream",
          "text": [
            "/usr/local/lib/python3.6/dist-packages/ipykernel_launcher.py:3: SettingWithCopyWarning: \n",
            "A value is trying to be set on a copy of a slice from a DataFrame.\n",
            "Try using .loc[row_indexer,col_indexer] = value instead\n",
            "\n",
            "See the caveats in the documentation: https://pandas.pydata.org/pandas-docs/stable/user_guide/indexing.html#returning-a-view-versus-a-copy\n",
            "  This is separate from the ipykernel package so we can avoid doing imports until\n"
          ],
          "name": "stderr"
        }
      ]
    },
    {
      "cell_type": "code",
      "metadata": {
        "id": "Y56p_AJPrY5T"
      },
      "source": [
        "sort.to_csv('Sub-8.csv', index=False)"
      ],
      "execution_count": 269,
      "outputs": []
    },
    {
      "cell_type": "code",
      "metadata": {
        "id": "6oW-VtC7rc6L"
      },
      "source": [
        ""
      ],
      "execution_count": null,
      "outputs": []
    }
  ]
}